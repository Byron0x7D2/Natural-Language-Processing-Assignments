{
  "cells": [
    {
      "cell_type": "markdown",
      "metadata": {
        "id": "Dpf1PDYCZ-f3"
      },
      "source": [
        "\n",
        "\n",
        "# IMPORTING LIBRARIES\n"
      ]
    },
    {
      "cell_type": "code",
      "execution_count": 1,
      "metadata": {
        "colab": {
          "base_uri": "https://localhost:8080/"
        },
        "execution": {
          "iopub.execute_input": "2022-12-17T06:37:19.129093Z",
          "iopub.status.busy": "2022-12-17T06:37:19.128515Z",
          "iopub.status.idle": "2022-12-17T06:37:30.646075Z",
          "shell.execute_reply": "2022-12-17T06:37:30.644935Z",
          "shell.execute_reply.started": "2022-12-17T06:37:19.129029Z"
        },
        "id": "bEl1Y9AvZ-f5",
        "outputId": "ae0b072a-ffb2-4a31-b2be-93af8854f49a",
        "trusted": true
      },
      "outputs": [
        {
          "name": "stdout",
          "output_type": "stream",
          "text": [
            "Mounted at /content/drive\n",
            "Looking in indexes: https://pypi.org/simple, https://us-python.pkg.dev/colab-wheels/public/simple/\n",
            "Collecting torchmetrics\n",
            "  Downloading torchmetrics-0.11.0-py3-none-any.whl (512 kB)\n",
            "\u001b[K     |████████████████████████████████| 512 kB 14.0 MB/s \n",
            "\u001b[?25hRequirement already satisfied: typing-extensions in /usr/local/lib/python3.8/dist-packages (from torchmetrics) (4.4.0)\n",
            "Requirement already satisfied: numpy>=1.17.2 in /usr/local/lib/python3.8/dist-packages (from torchmetrics) (1.21.6)\n",
            "Requirement already satisfied: packaging in /usr/local/lib/python3.8/dist-packages (from torchmetrics) (21.3)\n",
            "Requirement already satisfied: torch>=1.8.1 in /usr/local/lib/python3.8/dist-packages (from torchmetrics) (1.13.0+cu116)\n",
            "Requirement already satisfied: pyparsing!=3.0.5,>=2.0.2 in /usr/local/lib/python3.8/dist-packages (from packaging->torchmetrics) (3.0.9)\n",
            "Installing collected packages: torchmetrics\n",
            "Successfully installed torchmetrics-0.11.0\n"
          ]
        },
        {
          "name": "stderr",
          "output_type": "stream",
          "text": [
            "[nltk_data] Downloading package stopwords to /root/nltk_data...\n",
            "[nltk_data]   Unzipping corpora/stopwords.zip.\n"
          ]
        }
      ],
      "source": [
        "import pandas as pd\n",
        "import numpy as np\n",
        "from google.colab import drive\n",
        "drive.mount('/content/drive')\n",
        "import re\n",
        "!pip install -q wordcloud\n",
        "!pip install torchmetrics\n",
        "import wordcloud\n",
        "\n",
        "import nltk\n",
        "nltk.download('stopwords')\n",
        "from nltk.corpus import stopwords\n",
        "\n",
        "# nltk.download('wordnet')\n",
        "# nltk.download('punkt')\n",
        "# nltk.download('averaged_perceptron_tagger') \n",
        "# nltk.download('omw-1.4')\n",
        "from nltk.stem.porter import PorterStemmer\n",
        "from nltk.stem import WordNetLemmatizer\n",
        "from sklearn.model_selection import train_test_split\n",
        "from matplotlib import pyplot as plt\n",
        "from IPython.core.display import Path\n",
        "from gensim.scripts.glove2word2vec import glove2word2vec\n",
        "import torch\n",
        "import torch.nn as nn\n",
        "from torchvision import datasets \n",
        "from torchvision.transforms import ToTensor\n",
        "import torch.nn.functional as F \n",
        "from torch.utils.data import Dataset\n",
        "from torch.utils.data import DataLoader\n",
        "import random\n",
        "import os\n",
        "os.environ['PYTHONHASHSEED'] = str(69)\n",
        "from sklearn.metrics import classification_report, RocCurveDisplay, roc_curve, auc\n",
        "from sklearn.metrics import f1_score as skf1\n",
        "from torchmetrics.functional import f1_score\n",
        "from torchmetrics import ConfusionMatrix"
      ]
    },
    {
      "cell_type": "code",
      "execution_count": 2,
      "metadata": {
        "colab": {
          "base_uri": "https://localhost:8080/"
        },
        "execution": {
          "iopub.execute_input": "2022-12-17T06:37:30.659116Z",
          "iopub.status.busy": "2022-12-17T06:37:30.658518Z",
          "iopub.status.idle": "2022-12-17T06:37:30.668986Z",
          "shell.execute_reply": "2022-12-17T06:37:30.667998Z",
          "shell.execute_reply.started": "2022-12-17T06:37:30.659080Z"
        },
        "id": "leNu4PbIZ-f-",
        "outputId": "808def92-a3a4-4963-8f4b-b4476dbd849a",
        "trusted": true
      },
      "outputs": [
        {
          "name": "stdout",
          "output_type": "stream",
          "text": [
            "cuda\n"
          ]
        }
      ],
      "source": [
        "device = torch.device('cuda' if torch.cuda.is_available() else 'cpu')\n",
        "print(device)"
      ]
    },
    {
      "cell_type": "code",
      "execution_count": 3,
      "metadata": {
        "execution": {
          "iopub.execute_input": "2022-12-17T06:37:30.671974Z",
          "iopub.status.busy": "2022-12-17T06:37:30.671449Z",
          "iopub.status.idle": "2022-12-17T06:37:31.227990Z",
          "shell.execute_reply": "2022-12-17T06:37:31.226990Z",
          "shell.execute_reply.started": "2022-12-17T06:37:30.671939Z"
        },
        "id": "hy4_J2cwZ-gA",
        "trusted": true
      },
      "outputs": [],
      "source": [
        "#pass the paths here\n",
        "testpath = '/content/drive/My Drive/AI2/HW3/imdb-reviews.csv'\n",
        "modelpath = '/content/drive/My Drive/AI2/HW3/myNN.pt'\n",
        "dftest = pd.read_csv(testpath,  sep='\\t', lineterminator='\\n')"
      ]
    },
    {
      "cell_type": "code",
      "execution_count": 5,
      "metadata": {
        "execution": {
          "iopub.execute_input": "2022-12-17T06:37:31.229804Z",
          "iopub.status.busy": "2022-12-17T06:37:31.229463Z",
          "iopub.status.idle": "2022-12-17T06:37:56.201349Z",
          "shell.execute_reply": "2022-12-17T06:37:56.200312Z",
          "shell.execute_reply.started": "2022-12-17T06:37:31.229767Z"
        },
        "id": "pQy3czr5Z-gC",
        "trusted": true
      },
      "outputs": [],
      "source": [
        "\n",
        "dftest['review'] = dftest['review'].apply(lambda r: re.sub(r'\\'', '', r))   #removing apostrophes so don't becomes dont\n",
        "dftest['review'] = [r.lower() for r in dftest['review'] ]   #making everything lowercase\n",
        "dftest['review'] = dftest['review'].apply(lambda r: re.sub(r'<br /><br />', ' ', r))  #removing this wierd sequence found in some reviews\n",
        "dftest['review'] = dftest['review'].apply(lambda r: re.sub(r'[^a-z]', ' ', r))   #only keeping letters\n",
        "rem = stopwords.words('english')\n",
        "dftest['review'] = dftest['review'].apply(lambda r: ' '.join([word for word in r.split() if word not in rem]))"
      ]
    },
    {
      "cell_type": "code",
      "execution_count": 6,
      "metadata": {
        "execution": {
          "iopub.execute_input": "2022-12-17T06:37:56.208544Z",
          "iopub.status.busy": "2022-12-17T06:37:56.206316Z",
          "iopub.status.idle": "2022-12-17T06:37:56.220027Z",
          "shell.execute_reply": "2022-12-17T06:37:56.219015Z",
          "shell.execute_reply.started": "2022-12-17T06:37:56.208504Z"
        },
        "id": "w6pibVQ4Z-gD",
        "trusted": true
      },
      "outputs": [],
      "source": [
        "def vectorize(df, w2v):\n",
        "\tX = list()\n",
        "\tY = list()\n",
        "\t# Scored are either positive or negative\n",
        "\tScores = list(df['rating'].apply(lambda r: 1 if r > 5 else 0))\n",
        "\n",
        "\tfor (i, review) in enumerate(df[\"review\"].values):\n",
        "\t\twvectors = list()\n",
        "\t\tfor word in review.split(\" \"):\n",
        "\t\t\tif word in w2v.keys(): # Keeping only words in the vocabulary and using theur value\n",
        "\t\t\t\twvectors.append(list(w2v[word]))\n",
        "\t\tif len(wvectors) > 0:\n",
        "\t\t\tX.append(np.mean(wvectors, axis=0)) #we keep the mean \n",
        "\t\t\tY.append(Scores[i])\n",
        "\treturn (X,Y)"
      ]
    },
    {
      "cell_type": "code",
      "execution_count": 7,
      "metadata": {
        "colab": {
          "base_uri": "https://localhost:8080/"
        },
        "execution": {
          "iopub.execute_input": "2022-12-17T06:37:56.222033Z",
          "iopub.status.busy": "2022-12-17T06:37:56.221379Z",
          "iopub.status.idle": "2022-12-17T06:40:57.902770Z",
          "shell.execute_reply": "2022-12-17T06:40:57.901628Z",
          "shell.execute_reply.started": "2022-12-17T06:37:56.221996Z"
        },
        "id": "GASWntKIZ-gE",
        "outputId": "be406e88-07a1-41e6-c753-0fb2794c9c4b",
        "trusted": true
      },
      "outputs": [
        {
          "name": "stdout",
          "output_type": "stream",
          "text": [
            "--2022-12-23 17:46:24--  http://nlp.stanford.edu/data/glove.6B.zip\n",
            "Resolving nlp.stanford.edu (nlp.stanford.edu)... 171.64.67.140\n",
            "Connecting to nlp.stanford.edu (nlp.stanford.edu)|171.64.67.140|:80... connected.\n",
            "HTTP request sent, awaiting response... 302 Found\n",
            "Location: https://nlp.stanford.edu/data/glove.6B.zip [following]\n",
            "--2022-12-23 17:46:25--  https://nlp.stanford.edu/data/glove.6B.zip\n",
            "Connecting to nlp.stanford.edu (nlp.stanford.edu)|171.64.67.140|:443... connected.\n",
            "HTTP request sent, awaiting response... 301 Moved Permanently\n",
            "Location: https://downloads.cs.stanford.edu/nlp/data/glove.6B.zip [following]\n",
            "--2022-12-23 17:46:25--  https://downloads.cs.stanford.edu/nlp/data/glove.6B.zip\n",
            "Resolving downloads.cs.stanford.edu (downloads.cs.stanford.edu)... 171.64.64.22\n",
            "Connecting to downloads.cs.stanford.edu (downloads.cs.stanford.edu)|171.64.64.22|:443... connected.\n",
            "HTTP request sent, awaiting response... 200 OK\n",
            "Length: 862182613 (822M) [application/zip]\n",
            "Saving to: ‘glove.6B.zip’\n",
            "\n",
            "glove.6B.zip        100%[===================>] 822.24M  5.06MB/s    in 2m 41s  \n",
            "\n",
            "2022-12-23 17:49:07 (5.11 MB/s) - ‘glove.6B.zip’ saved [862182613/862182613]\n",
            "\n",
            "Archive:  glove.6B.zip\n",
            "  inflating: glove.6B.50d.txt        \n",
            "  inflating: glove.6B.100d.txt       \n",
            "  inflating: glove.6B.200d.txt       \n",
            "  inflating: glove.6B.300d.txt       \n"
          ]
        }
      ],
      "source": [
        "!wget http://nlp.stanford.edu/data/glove.6B.zip\n",
        "!unzip glove*.zip"
      ]
    },
    {
      "cell_type": "code",
      "execution_count": 8,
      "metadata": {
        "execution": {
          "iopub.execute_input": "2022-12-17T06:40:57.904877Z",
          "iopub.status.busy": "2022-12-17T06:40:57.904547Z",
          "iopub.status.idle": "2022-12-17T06:43:50.260179Z",
          "shell.execute_reply": "2022-12-17T06:43:50.259176Z",
          "shell.execute_reply.started": "2022-12-17T06:40:57.904849Z"
        },
        "id": "GSydw1jjZ-gE",
        "trusted": true
      },
      "outputs": [],
      "source": [
        "w2v = {}\n",
        "\n",
        "with open('glove.6B.300d.txt', encoding=\"utf8\") as fp:\n",
        "\tfor lines in fp:\n",
        "\t\tvarray = lines.split(\" \")\n",
        "\t\tw2v[varray[0]] = np.asarray(varray[1:], dtype='float32')\n",
        "\n",
        "(Xtest, Ytest) = vectorize(dftest, w2v)"
      ]
    },
    {
      "cell_type": "markdown",
      "metadata": {
        "id": "XEQ9WnlFZ-gG"
      },
      "source": [
        "# CREATING SETS"
      ]
    },
    {
      "cell_type": "code",
      "execution_count": 9,
      "metadata": {
        "colab": {
          "base_uri": "https://localhost:8080/"
        },
        "execution": {
          "iopub.execute_input": "2022-12-17T06:43:50.262211Z",
          "iopub.status.busy": "2022-12-17T06:43:50.261805Z",
          "iopub.status.idle": "2022-12-17T06:43:54.507385Z",
          "shell.execute_reply": "2022-12-17T06:43:54.506399Z",
          "shell.execute_reply.started": "2022-12-17T06:43:50.262171Z"
        },
        "id": "lPdFrsZ-Z-gG",
        "outputId": "094f4484-2e43-477a-ce45-143491e9274a",
        "trusted": true
      },
      "outputs": [
        {
          "name": "stdout",
          "output_type": "stream",
          "text": [
            "torch.Size([45008, 300]) torch.Size([45008])\n"
          ]
        },
        {
          "name": "stderr",
          "output_type": "stream",
          "text": [
            "<ipython-input-9-07fb55d86dd9>:1: UserWarning: Creating a tensor from a list of numpy.ndarrays is extremely slow. Please consider converting the list to a single numpy.ndarray with numpy.array() before converting to a tensor. (Triggered internally at ../torch/csrc/utils/tensor_new.cpp:230.)\n",
            "  XT = torch.tensor(Xtest, dtype=torch.float, device=device)\n"
          ]
        }
      ],
      "source": [
        "XT = torch.tensor(Xtest, dtype=torch.float, device=device)\n",
        "YT = torch.tensor(Ytest, device=device)\n",
        "print(XT.shape, YT.shape)\n"
      ]
    },
    {
      "cell_type": "markdown",
      "metadata": {
        "id": "H6X_7W8JZ-gH"
      },
      "source": [
        "# MODEL CREATION\n"
      ]
    },
    {
      "cell_type": "code",
      "execution_count": 10,
      "metadata": {
        "execution": {
          "iopub.execute_input": "2022-12-17T06:59:51.571248Z",
          "iopub.status.busy": "2022-12-17T06:59:51.570864Z",
          "iopub.status.idle": "2022-12-17T06:59:51.582407Z",
          "shell.execute_reply": "2022-12-17T06:59:51.581300Z",
          "shell.execute_reply.started": "2022-12-17T06:59:51.571215Z"
        },
        "id": "aVeS1cQbZ-gH",
        "trusted": true
      },
      "outputs": [],
      "source": [
        "class RNN(nn.Module):\n",
        "    def __init__(self, cell_type,input_size, hidden_size, num_layers, drop, device, output_size, attention, num_heads, skip=False):\n",
        "        super(RNN, self).__init__()\n",
        "        \n",
        "        cells = {\n",
        "        \"LSTM\"    : nn.LSTM,\n",
        "        \"GRU\"     : nn.GRU}\n",
        "        \n",
        "        self.cell_type = cell_type\n",
        "        self.attention = attention\n",
        "        self.hidden_size = hidden_size\n",
        "        self.num_layers=num_layers\n",
        "        self.skip= skip\n",
        "        self.dropout = nn.Dropout(drop)\n",
        "        if skip:\n",
        "            self.rnn = nn.ModuleList()\n",
        "            self.rnn.append(cells[cell_type](input_size=input_size, hidden_size=hidden_size, num_layers=1, batch_first=True, bidirectional=True, device=device))\n",
        "            for i in range(num_layers-1):\n",
        "                self.rnn.append(cells[cell_type](input_size=hidden_size*2, hidden_size=hidden_size, num_layers=1, batch_first=True,  bidirectional=True, device=device))\n",
        "        else:\n",
        "            self.rnn = cells[cell_type](input_size=input_size, hidden_size=hidden_size, num_layers=num_layers, batch_first=True, dropout=drop, bidirectional=True, device=device)\n",
        "        \n",
        "#         Attention\n",
        "        if self.attention:\n",
        "            self.Q = nn.Linear(hidden_size*2,hidden_size*2, bias=False, device=device)\n",
        "            self.K = nn.Linear(hidden_size*2,hidden_size*2, bias=False, device=device)\n",
        "            self.V = nn.Linear(hidden_size*2,hidden_size*2, bias=False, device=device)\n",
        "            self.att = nn.MultiheadAttention(self.hidden_size*2, num_heads=num_heads ,batch_first=True, device=device)\n",
        "\n",
        "        \n",
        "        self.out = nn.Linear(2*hidden_size, output_size, device=device)\n",
        "        \n",
        "    def forward(self, x):\n",
        "        if self.skip:\n",
        "            if self.cell_type == 'LSTM':\n",
        "                r_out, (h_n, h_c) = self.rnn[0](x) \n",
        "            else:\n",
        "                r_out, h_n = self.rnn[0](x)\n",
        "                \n",
        "            for i in range(self.num_layers-1):\n",
        "                prev = r_out\n",
        "                r_out = self.dropout(r_out)\n",
        "                if self.cell_type == 'LSTM':\n",
        "                    r_out, (h_n, h_c) = self.rnn[i+1](r_out) \n",
        "                else:\n",
        "                    r_out, h_n = self.rnn[i+1](r_out)\n",
        "                r_out = r_out + prev\n",
        "        else:\n",
        "            if self.cell_type == 'LSTM':\n",
        "                r_out, (h_n, h_c) = self.rnn(x) \n",
        "            else:\n",
        "                r_out, h_n = self.rnn(x)\n",
        "                \n",
        "        if self.attention:\n",
        "            Q = self.Q(r_out)\n",
        "            K = self.K(r_out)\n",
        "            V = self.V(r_out)\n",
        "            att, _ = self.att(Q, K, V)\n",
        "            out = att + r_out \n",
        "        else:\n",
        "            out = r_out\n",
        "        return self.out(out) \n",
        "        "
      ]
    },
    {
      "cell_type": "code",
      "execution_count": 13,
      "metadata": {
        "execution": {
          "iopub.execute_input": "2022-12-17T06:59:20.563615Z",
          "iopub.status.busy": "2022-12-17T06:59:20.563249Z",
          "iopub.status.idle": "2022-12-17T06:59:20.577300Z",
          "shell.execute_reply": "2022-12-17T06:59:20.576229Z",
          "shell.execute_reply.started": "2022-12-17T06:59:20.563585Z"
        },
        "id": "sp2NxUB-Z-gI",
        "trusted": true
      },
      "outputs": [],
      "source": [
        "def train(model, epochs, dataloader, learningrate, Xval, Yval, prinntTF, clip):\n",
        "    lastf1 = None\n",
        "    lastmodel = None\n",
        "    lossfunction = nn.CrossEntropyLoss()\n",
        "    optim = torch.optim.Adam(model.parameters(), lr=learningrate)\n",
        "    for ep in range(epochs):\n",
        "        model.train()\n",
        "        for batch, (X,Y) in enumerate(dataloader):\n",
        "            optim.zero_grad()\n",
        "            X = X.to(device)\n",
        "            Y = Y.to(device)\n",
        "            Ypred = model(X)\n",
        "            l = lossfunction(Ypred, Y)\n",
        "            l.backward()\n",
        "            \n",
        "            nn.utils.clip_grad_norm_(model.parameters(), clip)\n",
        "            \n",
        "            optim.step()\n",
        "        with torch.no_grad():\n",
        "            model.eval()\n",
        "            _, Vpred = torch.max(model(Xval), 1)\n",
        "            f1 = f1_score(Yval.cpu(), Vpred.cpu(), average=\"weighted\", num_classes=2, task=\"multiclass\")\n",
        "            if prinntTF:\n",
        "                print(f\"for epoch = {ep} we got loss = {l.item()} and f1 score with val set = {f1}\")\n",
        "            if lastf1 is None:\n",
        "                lastf1 = f1 \n",
        "                lastmodel = model\n",
        "            else:\n",
        "                if lastf1 > f1:\n",
        "                    return lastmodel\n",
        "                else:\n",
        "                    lastf1 = f1\n",
        "    return model\n",
        "\n",
        "def test(model, Xtest, Ytest):\n",
        "    with torch.no_grad():\n",
        "        model.eval()\n",
        "        _, Ypred = torch.max(model(Xtest), 1)\n",
        "        Ypred = Ypred.cpu()\n",
        "        Ytest = Ytest.cpu()\n",
        "        print(classification_report(Ytest, Ypred))\n",
        "        return f1_score(Ytest, Ypred, average=\"weighted\", num_classes=2, task=\"multiclass\")"
      ]
    },
    {
      "cell_type": "markdown",
      "metadata": {
        "id": "F7petILbZ-gI"
      },
      "source": [
        "# TESTING"
      ]
    },
    {
      "cell_type": "code",
      "execution_count": 14,
      "metadata": {
        "colab": {
          "base_uri": "https://localhost:8080/"
        },
        "execution": {
          "iopub.execute_input": "2022-12-17T06:59:54.815172Z",
          "iopub.status.busy": "2022-12-17T06:59:54.814808Z",
          "iopub.status.idle": "2022-12-17T07:01:10.099778Z",
          "shell.execute_reply": "2022-12-17T07:01:10.098747Z",
          "shell.execute_reply.started": "2022-12-17T06:59:54.815141Z"
        },
        "id": "8yVmTSMiZ-gI",
        "outputId": "c3c00988-0335-46ce-8182-9ffc26cbcd66",
        "trusted": true
      },
      "outputs": [
        {
          "name": "stdout",
          "output_type": "stream",
          "text": [
            "              precision    recall  f1-score   support\n",
            "\n",
            "           0       0.82      0.87      0.84     22500\n",
            "           1       0.86      0.81      0.83     22508\n",
            "\n",
            "    accuracy                           0.84     45008\n",
            "   macro avg       0.84      0.84      0.84     45008\n",
            "weighted avg       0.84      0.84      0.84     45008\n",
            "\n"
          ]
        },
        {
          "data": {
            "text/plain": [
              "tensor(0.8387)"
            ]
          },
          "execution_count": 14,
          "metadata": {},
          "output_type": "execute_result"
        }
      ],
      "source": [
        "model = RNN(\"LSTM\",  300, 16,3,0.375, device, 2,False, 7)\n",
        "model.load_state_dict(torch.load(modelpath))\n",
        "test(model, XT, YT)"
      ]
    },
    {
      "cell_type": "code",
      "execution_count": 15,
      "metadata": {
        "colab": {
          "base_uri": "https://localhost:8080/",
          "height": 279
        },
        "id": "pXbCYRs_eHsq",
        "outputId": "278bb452-ca8c-42ad-fb10-ff9f221d4321"
      },
      "outputs": [
        {
          "data": {
            "image/png": "[encoded data removed]",
            "text/plain": [
              "<Figure size 432x288 with 1 Axes>"
            ]
          },
          "metadata": {
            "needs_background": "light"
          },
          "output_type": "display_data"
        }
      ],
      "source": [
        "def plotROC(model, Xtest, Ytest):\n",
        "\twith torch.no_grad():\n",
        "\t\tmodel.eval()\n",
        "\t\t_, Ypred = torch.max(model(Xtest), 1)\n",
        "\t\tYpred = Ypred.cpu()\n",
        "\t\tYtest = Ytest.cpu()\n",
        "\t\tRocCurveDisplay.from_predictions(Ytest, Ypred)\n",
        "\t\tplt.show()\n",
        "plotROC(model, XT, YT)"
      ]
    }
  ],
  "metadata": {
    "accelerator": "GPU",
    "colab": {
      "provenance": []
    },
    "gpuClass": "standard",
    "kernelspec": {
      "display_name": "jupyter",
      "language": "python",
      "name": "python3"
    },
    "language_info": {
      "codemirror_mode": {
        "name": "ipython",
        "version": 3
      },
      "file_extension": ".py",
      "mimetype": "text/x-python",
      "name": "python",
      "nbconvert_exporter": "python",
      "pygments_lexer": "ipython3",
      "version": "3.7.13 (default, Mar 28 2022, 08:03:21) [MSC v.1916 64 bit (AMD64)]"
    },
    "vscode": {
      "interpreter": {
        "hash": "d28e66d4c4afece0b63b561415bf2f2f93229680b11f0e6c52213614fdb6f740"
      }
    }
  },
  "nbformat": 4,
  "nbformat_minor": 0
}
