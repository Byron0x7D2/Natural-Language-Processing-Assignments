{
 "cells": [
  {
   "cell_type": "markdown",
   "metadata": {},
   "source": [
    "Importing libraries"
   ]
  },
  {
   "cell_type": "code",
   "execution_count": 11,
   "metadata": {},
   "outputs": [
    {
     "name": "stderr",
     "output_type": "stream",
     "text": [
      "'wget' is not recognized as an internal or external command,\n",
      "operable program or batch file.\n"
     ]
    },
    {
     "name": "stdout",
     "output_type": "stream",
     "text": [
      "Note: you may need to restart the kernel to use updated packages.\n"
     ]
    },
    {
     "name": "stderr",
     "output_type": "stream",
     "text": [
      "UsageError: Line magic function `%unzip` not found.\n"
     ]
    }
   ],
   "source": [
    "import pandas as pd\n",
    "import numpy as np\n",
    "# from google.colab import drive\n",
    "# drive.mount('/content/drive')\n",
    "import re\n",
    "\n",
    "# !pip install -q wordcloud\n",
    "import wordcloud\n",
    "\n",
    "import nltk\n",
    "from nltk.corpus import stopwords\n",
    "nltk.download('stopwords')\n",
    "nltk.download('wordnet')\n",
    "nltk.download('punkt')\n",
    "nltk.download('averaged_perceptron_tagger') \n",
    "nltk.download('omw-1.4')\n",
    "from nltk.stem.porter import PorterStemmer\n",
    "from nltk.stem import WordNetLemmatizer\n",
    "from sklearn.model_selection import train_test_split\n",
    "from matplotlib import pyplot as plt\n",
    "from IPython.core.display import Path\n",
    "from gensim.scripts.glove2word2vec import glove2word2vec\n",
    "import torch\n",
    "import torch.nn as nn\n",
    "from torchvision import datasets \n",
    "from torchvision.transforms import ToTensor\n",
    "import torch.nn.functional as F \n",
    "from torch.utils.data import Dataset\n",
    "from torch.utils.data import DataLoader\n",
    "import random\n",
    "import os\n",
    "\n",
    "os.environ['PYTHONHASHSEED'] = str(69)\n",
    "from sklearn.metrics import classification_report, RocCurveDisplay, roc_curve, auc\n",
    "from sklearn.metrics import f1_score as skf1\n",
    "from torchmetrics.functional import f1_score\n",
    "from torchmetrics import ConfusionMatrix"
   ]
  },
  {
   "cell_type": "code",
   "execution_count": 2,
   "metadata": {},
   "outputs": [],
   "source": [
    "def randreset(s):  #making sure each run will yield consistent results\n",
    "\trandom.seed(s)\n",
    "\tnp.random.seed(s)\n",
    "\ttorch.manual_seed(s)\n",
    "\ttorch.backends.cudnn.deterministic = True\n",
    "\ttorch.backends.cudnn.benchmark = False\n",
    "\ttorch.cuda.manual_seed_all(s)"
   ]
  },
  {
   "cell_type": "code",
   "execution_count": 3,
   "metadata": {},
   "outputs": [
    {
     "name": "stdout",
     "output_type": "stream",
     "text": [
      "cuda\n"
     ]
    }
   ],
   "source": [
    "device = torch.device('cuda' if torch.cuda.is_available() else 'cpu')\n",
    "print(device)"
   ]
  },
  {
   "cell_type": "markdown",
   "metadata": {},
   "source": [
    "Loading the data for preprocessing"
   ]
  },
  {
   "cell_type": "code",
   "execution_count": 4,
   "metadata": {},
   "outputs": [],
   "source": [
    "path = 'imdb-reviews.csv'\n",
    "jsonpath = 'save.json'\n",
    "\n",
    "df = pd.read_csv(path,  sep='\\t', lineterminator='\\n')"
   ]
  },
  {
   "cell_type": "markdown",
   "metadata": {},
   "source": [
    "Processing the data"
   ]
  },
  {
   "cell_type": "code",
   "execution_count": 5,
   "metadata": {},
   "outputs": [],
   "source": [
    "df['review'] = df['review'].apply(lambda r: re.sub(r'\\'', '', r))   #removing apostrophes so don't becomes dont\n",
    "df['review'] = [r.lower() for r in df['review'] ]   #making everything lowercase\n",
    "df['review'] = df['review'].apply(lambda r: re.sub(r'<br /><br />', ' ', r))  #removing this wierd sequence found in some reviews\n",
    "df['review'] = df['review'].apply(lambda r: re.sub(r'[^a-z]', ' ', r))   #only keeping letters\n",
    "\n",
    "rem = stopwords.words('english')\n",
    "df['review'] = df['review'].apply(lambda r: ' '.join([word for word in r.split() if word not in rem]))\n"
   ]
  },
  {
   "cell_type": "markdown",
   "metadata": {},
   "source": [
    "Vectorisation of the data"
   ]
  },
  {
   "cell_type": "code",
   "execution_count": 6,
   "metadata": {},
   "outputs": [],
   "source": [
    "def vectorize(df, w2v):\n",
    "\tX = list()\n",
    "\tY = list()\n",
    "\t# Scored are either positive or negative\n",
    "\tScores = list(df['rating'].apply(lambda r: 1 if r > 5 else 0))\n",
    "\n",
    "\tfor (i, review) in enumerate(df[\"review\"].values):\n",
    "\t\twvectors = list()\n",
    "\t\tfor word in review.split(\" \"):\n",
    "\t\t\tif word in w2v.keys(): # Keeping only words in the vocabulary and using theur value\n",
    "\t\t\t\twvectors.append(list(w2v[word]))\n",
    "\t\tif len(wvectors) > 0:\n",
    "\t\t\tX.append(np.mean(wvectors, axis=0)) #we keep the mean \n",
    "\t\t\tY.append(Scores[i])\n",
    "\treturn (X,Y)\n"
   ]
  },
  {
   "cell_type": "markdown",
   "metadata": {},
   "source": [
    "GloVe processing"
   ]
  },
  {
   "cell_type": "code",
   "execution_count": 8,
   "metadata": {},
   "outputs": [
    {
     "ename": "FileNotFoundError",
     "evalue": "[Errno 2] No such file or directory: 'glove.6B.300d.txt'",
     "output_type": "error",
     "traceback": [
      "\u001b[1;31m---------------------------------------------------------------------------\u001b[0m",
      "\u001b[1;31mFileNotFoundError\u001b[0m                         Traceback (most recent call last)",
      "\u001b[1;32m~\\AppData\\Local\\Temp\\ipykernel_4332\\3623200944.py\u001b[0m in \u001b[0;36m<module>\u001b[1;34m\u001b[0m\n\u001b[0;32m      1\u001b[0m \u001b[0mw2v\u001b[0m \u001b[1;33m=\u001b[0m \u001b[1;33m{\u001b[0m\u001b[1;33m}\u001b[0m\u001b[1;33m\u001b[0m\u001b[1;33m\u001b[0m\u001b[0m\n\u001b[0;32m      2\u001b[0m \u001b[1;33m\u001b[0m\u001b[0m\n\u001b[1;32m----> 3\u001b[1;33m \u001b[1;32mwith\u001b[0m \u001b[0mopen\u001b[0m\u001b[1;33m(\u001b[0m\u001b[1;34m'glove.6B.300d.txt'\u001b[0m\u001b[1;33m,\u001b[0m \u001b[0mencoding\u001b[0m\u001b[1;33m=\u001b[0m\u001b[1;34m\"utf8\"\u001b[0m\u001b[1;33m)\u001b[0m \u001b[1;32mas\u001b[0m \u001b[0mfp\u001b[0m\u001b[1;33m:\u001b[0m\u001b[1;33m\u001b[0m\u001b[1;33m\u001b[0m\u001b[0m\n\u001b[0m\u001b[0;32m      4\u001b[0m         \u001b[1;32mfor\u001b[0m \u001b[0mlines\u001b[0m \u001b[1;32min\u001b[0m \u001b[0mfp\u001b[0m\u001b[1;33m:\u001b[0m\u001b[1;33m\u001b[0m\u001b[1;33m\u001b[0m\u001b[0m\n\u001b[0;32m      5\u001b[0m                 \u001b[0mvarray\u001b[0m \u001b[1;33m=\u001b[0m \u001b[0mlines\u001b[0m\u001b[1;33m.\u001b[0m\u001b[0msplit\u001b[0m\u001b[1;33m(\u001b[0m\u001b[1;34m\" \"\u001b[0m\u001b[1;33m)\u001b[0m\u001b[1;33m\u001b[0m\u001b[1;33m\u001b[0m\u001b[0m\n",
      "\u001b[1;31mFileNotFoundError\u001b[0m: [Errno 2] No such file or directory: 'glove.6B.300d.txt'"
     ]
    }
   ],
   "source": [
    "w2v = {}\n",
    "\n",
    "with open('glove.6B.300d.txt', encoding=\"utf8\") as fp:\n",
    "\tfor lines in fp:\n",
    "\t\tvarray = lines.split(\" \")\n",
    "\t\tw2v[varray[0]] = np.asarray(varray[1:], dtype='float32')\n",
    "\n",
    "(X, Y) = vectorize(df, w2v)\n"
   ]
  },
  {
   "cell_type": "markdown",
   "metadata": {},
   "source": [
    "Creating sets"
   ]
  },
  {
   "cell_type": "code",
   "execution_count": 9,
   "metadata": {},
   "outputs": [
    {
     "name": "stdout",
     "output_type": "stream",
     "text": [
      "torch.Size([36006, 300]) torch.Size([36006])\n",
      "torch.Size([4501, 300]) torch.Size([4501])\n",
      "torch.Size([4501, 300]) torch.Size([4501])\n"
     ]
    },
    {
     "name": "stderr",
     "output_type": "stream",
     "text": [
      "C:\\Users\\bgane\\AppData\\Roaming\\Python\\Python37\\site-packages\\ipykernel_launcher.py:6: UserWarning: Creating a tensor from a list of numpy.ndarrays is extremely slow. Please consider converting the list to a single numpy.ndarray with numpy.array() before converting to a tensor. (Triggered internally at C:\\cb\\pytorch_1000000000000\\work\\torch\\csrc\\utils\\tensor_new.cpp:233.)\n",
      "  \n"
     ]
    }
   ],
   "source": [
    "randreset(666)\n",
    "Xtrain, X1 , Ytrain, Y1 = train_test_split(X, Y, test_size=0.2, random_state=69)\n",
    "Xval, Xtest , Yval, Ytest = train_test_split(X1, Y1, test_size=0.5, random_state=69)\n",
    "\n",
    "\n",
    "Xt = torch.tensor(Xtrain, dtype=torch.float, device=device)\n",
    "Yt = torch.tensor(Ytrain, device=device)\n",
    "print(Xt.shape, Yt.shape)\n",
    "\n",
    "Xv = torch.tensor(Xval, dtype=torch.float, device=device)\n",
    "Yv = torch.tensor(Yval, device=device)\n",
    "print(Xv.shape, Yv.shape)\n",
    "\n",
    "XT = torch.tensor(Xtest, dtype=torch.float, device=device)\n",
    "YT = torch.tensor(Ytest, device=device)\n",
    "print(Xv.shape, Yv.shape)\n",
    "\n",
    "TrainDataset = torch.utils.data.TensorDataset(Xt, Yt)\n",
    "TrainDataloader = torch.utils.data.DataLoader(TrainDataset, batch_size=6001,shuffle=True)\n"
   ]
  },
  {
   "cell_type": "markdown",
   "metadata": {},
   "source": [
    "Creating the model and functions"
   ]
  },
  {
   "cell_type": "code",
   "execution_count": 9,
   "metadata": {},
   "outputs": [],
   "source": [
    "class NeuralNetwork(nn.Module):\n",
    "  def __init__(self, Din, H1, H2, Dout, drop, activation) -> None:\n",
    "      super(NeuralNetwork, self).__init__()\n",
    "      self.linear_relu_stack = nn.Sequential(\n",
    "          nn.Linear(Din, H1, device=device),\n",
    "\t\t      nn.Dropout(p=drop),\n",
    "          activation(),\n",
    "          nn.Linear(H1, H2, device=device),  \n",
    "\t\t      nn.Dropout(p=drop),\n",
    "          activation(),\n",
    "          nn.Linear(H2,Dout, device=device)\n",
    "        )\n",
    "\n",
    "  def forward(self, x):\n",
    "    logits = self.linear_relu_stack(x)\n",
    "    return logits\n",
    "\n",
    "class NeuralNetwork2(nn.Module):\n",
    "  def __init__(self, Din, H1, H2, H3,Dout, drop, activation) -> None:\n",
    "    super(NeuralNetwork2, self).__init__()\n",
    "    self.linear_relu_stack = nn.Sequential(\n",
    "        nn.Linear(Din, H1, device=device),\n",
    "        nn.Dropout(p=drop),\n",
    "        activation(),\n",
    "        nn.Linear(H1, H2, device=device),  \n",
    "\t      nn.Dropout(p=drop),\n",
    "        activation(),\n",
    "        nn.Linear(H2, H3, device=device), \n",
    "\t      nn.Dropout(p=drop),\n",
    "        activation(),\n",
    "        nn.Linear(H3,Dout, device=device)\n",
    "      )\n",
    "\n",
    "  def forward(self, x):\n",
    "    logits = self.linear_relu_stack(x)\n",
    "    return logits\n"
   ]
  },
  {
   "cell_type": "code",
   "execution_count": 10,
   "metadata": {},
   "outputs": [],
   "source": [
    "def train(model, epochs, dataloader, optimiser, learningrate, Xval, Yval, prinntTF):\n",
    "\tlastf1 = None\n",
    "\tlastmodel = None\n",
    "\tlossfunction = nn.CrossEntropyLoss()\n",
    "\toptim = getattr(torch.optim, optimiser)(model.parameters(), lr=learningrate) \n",
    "\tfor ep in range(epochs):\n",
    "\t\tmodel.train()\n",
    "\t\tfor batch, (X,Y) in enumerate(dataloader):\n",
    "\t\t\tX = X.to(device)\n",
    "\t\t\tY = Y.to(device)\n",
    "\t\t\tYpred = model(X)\n",
    "\t\t\tl = lossfunction(Ypred, Y)\n",
    "\t\t\tl.backward()\n",
    "\t\t\toptim.step()\n",
    "\t\t\toptim.zero_grad()\n",
    "\t\twith torch.no_grad(): #early stopping if the validation set, gets worse results\n",
    "\t\t\tmodel.eval()\n",
    "\t\t\t_, Vpred = torch.max(model(Xval), 1)\n",
    "\t\t\tf1 = f1_score(Yval.cpu(), Vpred.cpu(), average=\"weighted\", num_classes=2)\n",
    "\t\t\tif prinntTF:\n",
    "\t\t\t\tprint(f\"for epoch = {ep} we got loss = {l.item()} and f1 score with val set = {f1}\")\n",
    "\t\t\tif lastf1 is None:\n",
    "\t\t\t\tlastf1 = f1 \n",
    "\t\t\t\tlastmodel = model\n",
    "\t\t\telse:\n",
    "\t\t\t\tif lastf1 > f1:\n",
    "\t\t\t\t\treturn lastmodel\n",
    "\t\t\t\telse:\n",
    "\t\t\t\t\tlastf1 = f1\n",
    "\t\t\t\t\tlastmodel = model\n",
    "\n",
    "\t\t\t\n",
    "\treturn model\n",
    "\n",
    "\n",
    "def testf(model, Xtest, Ytest, f):\n",
    "\twith torch.no_grad():\n",
    "\t\tmodel.eval()\n",
    "\t\t_, Ypred = torch.max(model(Xtest), 1)\n",
    "\t\tYpred = Ypred.cpu()\n",
    "\t\tYtest = Ytest.cpu()\n",
    "\t\tf.write(classification_report(Ytest, Ypred))\n",
    "\n",
    "def test(model, Xtest, Ytest):\n",
    "\twith torch.no_grad():\n",
    "\t\tmodel.eval()\n",
    "\t\t_, Ypred = torch.max(model(Xtest), 1)\n",
    "\t\tYpred = Ypred.cpu()\n",
    "\t\tYtest = Ytest.cpu()\n",
    "\t\tprint(classification_report(Ytest, Ypred))\n",
    "\n"
   ]
  },
  {
   "cell_type": "markdown",
   "metadata": {},
   "source": [
    "Model Parameter Tuning\n",
    "(skip running this portion since it takes many hours to complete)"
   ]
  },
  {
   "cell_type": "code",
   "execution_count": 12,
   "metadata": {},
   "outputs": [
    {
     "name": "stdout",
     "output_type": "stream",
     "text": [
      "for epoch = 0 we got loss = 1.6506773233413696 and f1 score with val set = 0.3598181903362274\n",
      "for epoch = 1 we got loss = 0.6665911078453064 and f1 score with val set = 0.7170917391777039\n",
      "for epoch = 2 we got loss = 0.5773402452468872 and f1 score with val set = 0.7437430620193481\n",
      "for epoch = 3 we got loss = 0.5106748938560486 and f1 score with val set = 0.7987346649169922\n",
      "for epoch = 4 we got loss = 0.4814921021461487 and f1 score with val set = 0.812169075012207\n",
      "for epoch = 5 we got loss = 0.4379153847694397 and f1 score with val set = 0.8126370906829834\n",
      "for epoch = 6 we got loss = 0.42453381419181824 and f1 score with val set = 0.824476957321167\n",
      "for epoch = 7 we got loss = 0.3934515118598938 and f1 score with val set = 0.8216426968574524\n",
      "              precision    recall  f1-score   support\n",
      "\n",
      "           0       0.86      0.76      0.81      2273\n",
      "           1       0.78      0.88      0.82      2228\n",
      "\n",
      "    accuracy                           0.82      4501\n",
      "   macro avg       0.82      0.82      0.82      4501\n",
      "weighted avg       0.82      0.82      0.82      4501\n",
      "\n"
     ]
    }
   ],
   "source": [
    "randreset(666) #starting with some random parameters to test the model works\n",
    "model = NeuralNetwork(Xt.shape[1], 512, 512, 2, 0.3, nn.ReLU).to(device)\n",
    "model = train(model, 100, TrainDataloader, \"Adam\", 0.02, Xv, Yv, True)\n",
    "test(model, XT, YT)"
   ]
  },
  {
   "cell_type": "code",
   "execution_count": null,
   "metadata": {},
   "outputs": [],
   "source": [
    "f = open(\"out.txt\", \"w\") #trying diffrent neuron sizes, activation functions, dropout rates, optimisers and learning rates\n",
    "for neur in [128, 512, 1024, 2048]:\n",
    "\tfor activ in [nn.ReLU, nn.CELU, nn.Hardshrink, nn.GELU, nn.SiLU]:\n",
    "\t\tfor drop in [0.1,0.2,0.3,0.4,0.5,0.6]:\n",
    "\t\t\tfor optim in [\"SGD\", \"Adam\", \"Adagrad\", \"Adamax\", \"RMSprop\"]:\n",
    "\t\t\t\tfor lr in [0.02,0.04,0.06,0.08, 0.1, 0.2, 0.3]:\n",
    "\t\t\t\t\trandreset(666)\n",
    "\t\t\t\t\tmodel = NeuralNetwork(Xt.shape[1], neur, neur, 2,drop, activ).to(device)\n",
    "\t\t\t\t\tmodel = train(model, 100, TrainDataloader, optim, lr, Xv, Yv, False)\n",
    "\t\t\t\t\tf.write(f\"for neur = {neur}, activation = {activ}, dropout = {drop}, optimiser = {optim}, lr = {lr}\")\n",
    "\t\t\t\t\ttestf(model, XT, YT, f)\n",
    "f.close()"
   ]
  },
  {
   "cell_type": "code",
   "execution_count": 2,
   "metadata": {},
   "outputs": [
    {
     "name": "stdout",
     "output_type": "stream",
     "text": [
      "0.83\n",
      "for neur = 128, activation = <class 'torch.nn.modules.activation.ReLU'>, dropout = 0.1, optimiser = Adam, lr = 0.04              precision    recall  f1-score   support\n",
      "\n",
      "for neur = 128, activation = <class 'torch.nn.modules.activation.ReLU'>, dropout = 0.1, optimiser = Adam, lr = 0.06              precision    recall  f1-score   support\n",
      "\n",
      "for neur = 128, activation = <class 'torch.nn.modules.activation.ReLU'>, dropout = 0.1, optimiser = Adam, lr = 0.08              precision    recall  f1-score   support\n",
      "\n",
      "for neur = 128, activation = <class 'torch.nn.modules.activation.ReLU'>, dropout = 0.1, optimiser = Adamax, lr = 0.02              precision    recall  f1-score   support\n",
      "\n",
      "for neur = 128, activation = <class 'torch.nn.modules.activation.ReLU'>, dropout = 0.1, optimiser = Adamax, lr = 0.08              precision    recall  f1-score   support\n",
      "\n",
      "for neur = 128, activation = <class 'torch.nn.modules.activation.ReLU'>, dropout = 0.2, optimiser = Adam, lr = 0.02              precision    recall  f1-score   support\n",
      "\n",
      "for neur = 128, activation = <class 'torch.nn.modules.activation.ReLU'>, dropout = 0.2, optimiser = Adamax, lr = 0.02              precision    recall  f1-score   support\n",
      "\n",
      "for neur = 128, activation = <class 'torch.nn.modules.activation.ReLU'>, dropout = 0.3, optimiser = Adam, lr = 0.02              precision    recall  f1-score   support\n",
      "\n",
      "for neur = 128, activation = <class 'torch.nn.modules.activation.ReLU'>, dropout = 0.4, optimiser = Adam, lr = 0.02              precision    recall  f1-score   support\n",
      "\n",
      "for neur = 128, activation = <class 'torch.nn.modules.activation.ReLU'>, dropout = 0.4, optimiser = Adamax, lr = 0.02              precision    recall  f1-score   support\n",
      "\n",
      "for neur = 128, activation = <class 'torch.nn.modules.activation.ReLU'>, dropout = 0.5, optimiser = Adamax, lr = 0.02              precision    recall  f1-score   support\n",
      "\n",
      "for neur = 128, activation = <class 'torch.nn.modules.activation.CELU'>, dropout = 0.2, optimiser = Adam, lr = 0.02              precision    recall  f1-score   support\n",
      "\n",
      "for neur = 128, activation = <class 'torch.nn.modules.activation.CELU'>, dropout = 0.3, optimiser = Adam, lr = 0.02              precision    recall  f1-score   support\n",
      "\n",
      "for neur = 128, activation = <class 'torch.nn.modules.activation.CELU'>, dropout = 0.4, optimiser = Adamax, lr = 0.02              precision    recall  f1-score   support\n",
      "\n",
      "for neur = 128, activation = <class 'torch.nn.modules.activation.CELU'>, dropout = 0.6, optimiser = Adam, lr = 0.02              precision    recall  f1-score   support\n",
      "\n",
      "for neur = 128, activation = <class 'torch.nn.modules.activation.CELU'>, dropout = 0.6, optimiser = Adamax, lr = 0.02              precision    recall  f1-score   support\n",
      "\n",
      "for neur = 128, activation = <class 'torch.nn.modules.activation.GELU'>, dropout = 0.1, optimiser = Adamax, lr = 0.04              precision    recall  f1-score   support\n",
      "\n",
      "for neur = 128, activation = <class 'torch.nn.modules.activation.GELU'>, dropout = 0.1, optimiser = Adamax, lr = 0.06              precision    recall  f1-score   support\n",
      "\n",
      "for neur = 128, activation = <class 'torch.nn.modules.activation.GELU'>, dropout = 0.2, optimiser = Adam, lr = 0.02              precision    recall  f1-score   support\n",
      "\n",
      "for neur = 128, activation = <class 'torch.nn.modules.activation.GELU'>, dropout = 0.2, optimiser = Adam, lr = 0.08              precision    recall  f1-score   support\n",
      "\n",
      "for neur = 128, activation = <class 'torch.nn.modules.activation.GELU'>, dropout = 0.2, optimiser = Adamax, lr = 0.04              precision    recall  f1-score   support\n",
      "\n",
      "for neur = 128, activation = <class 'torch.nn.modules.activation.GELU'>, dropout = 0.4, optimiser = Adamax, lr = 0.06              precision    recall  f1-score   support\n",
      "\n",
      "for neur = 128, activation = <class 'torch.nn.modules.activation.GELU'>, dropout = 0.6, optimiser = Adamax, lr = 0.06              precision    recall  f1-score   support\n",
      "\n",
      "for neur = 128, activation = <class 'torch.nn.modules.activation.SiLU'>, dropout = 0.2, optimiser = Adamax, lr = 0.02              precision    recall  f1-score   support\n",
      "\n",
      "for neur = 128, activation = <class 'torch.nn.modules.activation.SiLU'>, dropout = 0.3, optimiser = Adamax, lr = 0.02              precision    recall  f1-score   support\n",
      "\n",
      "for neur = 128, activation = <class 'torch.nn.modules.activation.SiLU'>, dropout = 0.3, optimiser = Adamax, lr = 0.04              precision    recall  f1-score   support\n",
      "\n",
      "for neur = 128, activation = <class 'torch.nn.modules.activation.SiLU'>, dropout = 0.4, optimiser = Adamax, lr = 0.02              precision    recall  f1-score   support\n",
      "\n",
      "for neur = 128, activation = <class 'torch.nn.modules.activation.SiLU'>, dropout = 0.5, optimiser = Adamax, lr = 0.02              precision    recall  f1-score   support\n",
      "\n",
      "for neur = 1024, activation = <class 'torch.nn.modules.activation.ReLU'>, dropout = 0.1, optimiser = Adam, lr = 0.02              precision    recall  f1-score   support\n",
      "\n",
      "for neur = 1024, activation = <class 'torch.nn.modules.activation.ReLU'>, dropout = 0.1, optimiser = Adam, lr = 0.04              precision    recall  f1-score   support\n",
      "\n",
      "for neur = 1024, activation = <class 'torch.nn.modules.activation.ReLU'>, dropout = 0.2, optimiser = Adam, lr = 0.02              precision    recall  f1-score   support\n",
      "\n",
      "for neur = 1024, activation = <class 'torch.nn.modules.activation.ReLU'>, dropout = 0.2, optimiser = Adam, lr = 0.1              precision    recall  f1-score   support\n",
      "\n",
      "for neur = 1024, activation = <class 'torch.nn.modules.activation.ReLU'>, dropout = 0.4, optimiser = Adamax, lr = 0.04              precision    recall  f1-score   support\n",
      "\n",
      "for neur = 1024, activation = <class 'torch.nn.modules.activation.ReLU'>, dropout = 0.5, optimiser = Adamax, lr = 0.04              precision    recall  f1-score   support\n",
      "\n",
      "for neur = 2048, activation = <class 'torch.nn.modules.activation.ReLU'>, dropout = 0.1, optimiser = Adam, lr = 0.02              precision    recall  f1-score   support\n",
      "\n",
      "for neur = 2048, activation = <class 'torch.nn.modules.activation.ReLU'>, dropout = 0.5, optimiser = Adam, lr = 0.02              precision    recall  f1-score   support\n",
      "\n"
     ]
    }
   ],
   "source": [
    "f = open(\"out.txt\", \"r\") #interpreting the results and finding the best combinations\n",
    "bestacc = -1\n",
    "bestline = list()\n",
    "for i in range(4200):\t\n",
    "\tline1 = f.readline()\n",
    "\tline2 = f.readline()\n",
    "\tline3 = f.readline()\n",
    "\tline4 = f.readline()\n",
    "\tline5 = f.readline()\n",
    "\tline6 = f.readline()\n",
    "\tline7 = f.readline()\n",
    "\tline8 = f.readline()\n",
    "\n",
    "\tacc = line6.split()\n",
    "\tif float(acc[1]) > bestacc:\n",
    "\t\tbestacc = float(acc[1])\n",
    "\t\tbestline = [line1]\n",
    "\telif float(acc[1]) == bestacc:\n",
    "\t\tbestline.append(line1)\n",
    "print(bestacc)\n",
    "for l in bestline:\n",
    "\tprint(l)\n",
    "\n",
    "f.close()"
   ]
  },
  {
   "cell_type": "code",
   "execution_count": 83,
   "metadata": {},
   "outputs": [
    {
     "name": "stdout",
     "output_type": "stream",
     "text": [
      "for epoch = 0 we got loss = 0.6712283492088318 and f1 score with val set = 0.6722713708877563\n",
      "for epoch = 1 we got loss = 0.6338800191879272 and f1 score with val set = 0.7523807883262634\n",
      "for epoch = 2 we got loss = 0.516694188117981 and f1 score with val set = 0.7771332263946533\n",
      "for epoch = 3 we got loss = 0.4458700716495514 and f1 score with val set = 0.7947189807891846\n",
      "for epoch = 4 we got loss = 0.43640902638435364 and f1 score with val set = 0.8070963025093079\n",
      "for epoch = 5 we got loss = 0.40242454409599304 and f1 score with val set = 0.816131591796875\n",
      "for epoch = 6 we got loss = 0.3977370858192444 and f1 score with val set = 0.8219792246818542\n",
      "for epoch = 7 we got loss = 0.37404435873031616 and f1 score with val set = 0.825736403465271\n",
      "for epoch = 8 we got loss = 0.3887227773666382 and f1 score with val set = 0.8283443450927734\n",
      "for epoch = 9 we got loss = 0.38116833567619324 and f1 score with val set = 0.8313820362091064\n",
      "for epoch = 10 we got loss = 0.3597605526447296 and f1 score with val set = 0.8311548233032227\n",
      "              precision    recall  f1-score   support\n",
      "\n",
      "           0       0.82      0.85      0.83      2273\n",
      "           1       0.84      0.80      0.82      2228\n",
      "\n",
      "    accuracy                           0.83      4501\n",
      "   macro avg       0.83      0.83      0.83      4501\n",
      "weighted avg       0.83      0.83      0.83      4501\n",
      "\n"
     ]
    }
   ],
   "source": [
    "randreset(666) #trying one of the best results\n",
    "model = NeuralNetwork(Xt.shape[1], 128, 128, 2, 0.2, nn.CELU).to(device)\n",
    "model = train(model, 100, TrainDataloader, \"Adam\", 0.02, Xv, Yv, True)\n",
    "test(model, XT, YT)"
   ]
  },
  {
   "cell_type": "code",
   "execution_count": null,
   "metadata": {},
   "outputs": [],
   "source": [
    "f = open(\"out2.txt\", \"w\")\t#trying with the previus hyper parameters, varius 2 hidden layer neuron combinations\n",
    "for H1 in [128, 512, 1024, 2048]:\n",
    "\tfor H2 in [128, 512, 1024, 2048]:\n",
    "\t\tfor H3 in [128, 512, 1024, 2048]:\n",
    "\t\t\trandreset(69)\n",
    "\t\t\tmodel = NeuralNetwork2(Xt.shape[1], H1, H2, H3, 2, 0.4, nn.CELU).to(device)\n",
    "\t\t\tmodel = train(model, 100, TrainDataloader, \"Adam\", 0.02, Xv, Yv, False)\n",
    "\t\t\tf.write(f\"For H1 = {H1} , H2 = {H2}, H3 = {H3}\")\n",
    "\t\t\ttestf(model, XT, YT, f)\n",
    "f.close()"
   ]
  },
  {
   "cell_type": "code",
   "execution_count": 28,
   "metadata": {},
   "outputs": [
    {
     "name": "stdout",
     "output_type": "stream",
     "text": [
      "0.81\n",
      "For H1 = 512 , H2 = 128, H3 = 128              precision    recall  f1-score   support\n",
      "\n"
     ]
    }
   ],
   "source": [
    "f = open(\"out2.txt\", \"r\")\n",
    "bestacc = -1\n",
    "bestline = list()\n",
    "for i in range(64):\t\n",
    "\tline1 = f.readline()\n",
    "\tline2 = f.readline()\n",
    "\tline3 = f.readline()\n",
    "\tline4 = f.readline()\n",
    "\tline5 = f.readline()\n",
    "\tline6 = f.readline()\n",
    "\tline7 = f.readline()\n",
    "\tline8 = f.readline()\n",
    "\n",
    "\tacc = line6.split()\n",
    "\tif float(acc[1]) > bestacc:\n",
    "\t\tbestacc = float(acc[1])\n",
    "\t\tbestline = [line1]\n",
    "\telif float(acc[1]) == bestacc:\n",
    "\t\tbestline.append(line1)\n",
    "print(bestacc)\n",
    "for l in bestline:\n",
    "\tprint(l)\n",
    "\n",
    "f.close() #We see from the results, not much success with 2 hidden layers"
   ]
  },
  {
   "cell_type": "markdown",
   "metadata": {},
   "source": [
    "Testing learning rate scheduler"
   ]
  },
  {
   "cell_type": "code",
   "execution_count": 81,
   "metadata": {},
   "outputs": [],
   "source": [
    "\n",
    "def trainsched(model, epochs, dataloader, optimiser, learningrate, Xval, Yval, prinntTF, scheduler):\n",
    "\tlastf1 = None\n",
    "\tlastmodel = None\n",
    "\tlossfunction = nn.CrossEntropyLoss()\n",
    "\toptim = getattr(torch.optim, optimiser)(model.parameters(), lr=learningrate) \n",
    "\tsched = getattr(torch.optim.lr_scheduler, scheduler)(optim, step_size=10)\n",
    "\t# sched = getattr(torch.optim.lr_scheduler, scheduler)(optim, gamma=0.1)\n",
    "\tfor ep in range(epochs):\n",
    "\t\tmodel.train()\n",
    "\t\tfor batch, (X,Y) in enumerate(dataloader):\n",
    "\t\t\tX = X.to(device)\n",
    "\t\t\tY = Y.to(device)\n",
    "\t\t\tYpred = model(X)\n",
    "\t\t\tl = lossfunction(Ypred, Y)\n",
    "\t\t\tl.backward()\n",
    "\t\t\toptim.step()\n",
    "\t\t\toptim.zero_grad()\n",
    "\t\twith torch.no_grad():\n",
    "\t\t\tmodel.eval()\n",
    "\t\t\t_, Vpred = torch.max(model(Xval), 1)\n",
    "\t\t\tf1 = f1_score(Yval.cpu(), Vpred.cpu(), average=\"weighted\", num_classes=2)\n",
    "\t\t\tif prinntTF:\n",
    "\t\t\t\tprint(f\"for epoch = {ep} we got loss = {l.item()} and f1 score with val set = {f1}\")\n",
    "\t\t\tif lastf1 is None:\n",
    "\t\t\t\tlastf1 = f1 \n",
    "\t\t\t\tlastmodel = model\n",
    "\t\t\telse:\n",
    "\t\t\t\tif lastf1 > f1:\n",
    "\t\t\t\t\treturn lastmodel\n",
    "\t\t\t\telse:\n",
    "\t\t\t\t\tlastf1 = f1\n",
    "\t\tsched.step()\n",
    "\t\t\t\n",
    "\treturn model\n"
   ]
  },
  {
   "cell_type": "code",
   "execution_count": 82,
   "metadata": {},
   "outputs": [
    {
     "name": "stdout",
     "output_type": "stream",
     "text": [
      "              precision    recall  f1-score   support\n",
      "\n",
      "           0       0.83      0.81      0.82      2273\n",
      "           1       0.81      0.83      0.82      2228\n",
      "\n",
      "    accuracy                           0.82      4501\n",
      "   macro avg       0.82      0.82      0.82      4501\n",
      "weighted avg       0.82      0.82      0.82      4501\n",
      "\n"
     ]
    }
   ],
   "source": [
    "#We tied some learning rate schedulers but they didn't imrove our score\n",
    "randreset(666)\n",
    "model = NeuralNetwork(Xt.shape[1], 128, 128, 2, 0.2, nn.CELU).to(device)\n",
    "model = trainsched(model, 100, TrainDataloader, \"Adam\", 0.02, Xv, Yv, False, \"StepLR\")\n",
    "# model = trainsched(model, 100, TrainDataloader, \"Adam\", 0.02, Xv, Yv, False, \"ExponentialLR\")\n",
    "test(model, XT, YT)"
   ]
  },
  {
   "cell_type": "markdown",
   "metadata": {},
   "source": [
    "FINAL RESULTS, ROC CURVE and LEARNING CURVE"
   ]
  },
  {
   "cell_type": "code",
   "execution_count": 11,
   "metadata": {},
   "outputs": [
    {
     "name": "stdout",
     "output_type": "stream",
     "text": [
      "              precision    recall  f1-score   support\n",
      "\n",
      "           0       0.82      0.85      0.83      2273\n",
      "           1       0.84      0.80      0.82      2228\n",
      "\n",
      "    accuracy                           0.83      4501\n",
      "   macro avg       0.83      0.83      0.83      4501\n",
      "weighted avg       0.83      0.83      0.83      4501\n",
      "\n"
     ]
    }
   ],
   "source": [
    "randreset(666)\n",
    "model = NeuralNetwork(Xt.shape[1], 128, 128, 2, 0.2, nn.CELU).to(device)\n",
    "model = train(model, 100, TrainDataloader, \"Adam\", 0.02, Xv, Yv, False)\n",
    "test(model, XT, YT)"
   ]
  },
  {
   "cell_type": "code",
   "execution_count": 12,
   "metadata": {},
   "outputs": [
    {
     "data": {
      "image/png": "[encoded data removed]",
      "text/plain": [
       "<Figure size 640x480 with 1 Axes>"
      ]
     },
     "metadata": {},
     "output_type": "display_data"
    }
   ],
   "source": [
    "def plotROC(model, Xtest, Ytest):\n",
    "\twith torch.no_grad():\n",
    "\t\tmodel.eval()\n",
    "\t\t_, Ypred = torch.max(model(Xtest), 1)\n",
    "\t\tYpred = Ypred.cpu()\n",
    "\t\tYtest = Ytest.cpu()\n",
    "\t\tRocCurveDisplay.from_predictions(Ytest, Ypred)\n",
    "\t\tplt.show()\n",
    "plotROC(model, XT, YT)\n"
   ]
  },
  {
   "cell_type": "markdown",
   "metadata": {},
   "source": [
    "Learning Curve"
   ]
  },
  {
   "cell_type": "code",
   "execution_count": 13,
   "metadata": {},
   "outputs": [
    {
     "data": {
      "image/png": "[encoded data removed]",
      "text/plain": [
       "<Figure size 640x480 with 1 Axes>"
      ]
     },
     "metadata": {},
     "output_type": "display_data"
    }
   ],
   "source": [
    "randreset(666)\n",
    "Xtrain, X1 , Ytrain, Y1 = train_test_split(X, Y, test_size=0.2, random_state=69)\n",
    "Xval, Xtest , Yval, Ytest = train_test_split(X1, Y1, test_size=0.5, random_state=69)\n",
    "\n",
    "Xt = torch.tensor(Xtrain, dtype=torch.float, device=device)\n",
    "Yt = torch.tensor(Ytrain, device=device)\n",
    "\n",
    "Xv = torch.tensor(Xval, dtype=torch.float, device=device)\n",
    "Yv = torch.tensor(Yval, device=device)\n",
    "\n",
    "XT = torch.tensor(Xtest, dtype=torch.float, device=device)\n",
    "YT = torch.tensor(Ytest, device=device)\n",
    "\n",
    "Tscores = []\n",
    "Vscores = []\n",
    "for size in [3000,6000,9000,12000,15000,18000,21000,24000,27000,30000,33000,36006]:\n",
    "\tTrainDataset = torch.utils.data.TensorDataset(Xt[:size], Yt[:size])\n",
    "\tTrainDataloader = torch.utils.data.DataLoader(TrainDataset, batch_size=6001,shuffle=True)\n",
    "\trandreset(666)\n",
    "\tmodel = NeuralNetwork(Xt.shape[1], 128, 128, 2, 0.2, nn.CELU).to(device)\n",
    "\tmodel = train(model, 100, TrainDataloader, \"Adam\", 0.02, Xv, Yv, False)\n",
    "\t_, Ptrain = torch.max(model(Xt[:size]), 1)\n",
    "\tPtrain = Ptrain.cpu()\n",
    "\tPtraintrue = Yt.cpu()\n",
    "\t_, Ptest = torch.max(model(XT), 1)\n",
    "\tPtest = Ptest.cpu()\n",
    "\tPtesttrue = YT.cpu()\n",
    "\tTscores+= [skf1(Ptraintrue[:size], Ptrain, average=\"weighted\")]\n",
    "\tVscores += [skf1(Ptesttrue, Ptest, average=\"weighted\")]\n",
    "\t\n",
    "plt.grid()\n",
    "plt.plot([3000,6000,9000,12000,15000,18000,21000,24000,27000,30000,33000,36006], Tscores, label=\"Train Score\")\n",
    "plt.plot([3000,6000,9000,12000,15000,18000,21000,24000,27000,30000,33000,36006], Vscores, label=\"Test Score\")\n",
    "plt.show()"
   ]
  }
 ],
 "metadata": {
  "kernelspec": {
   "display_name": "Python 3.7.13 ('jupyter')",
   "language": "python",
   "name": "python3"
  },
  "language_info": {
   "codemirror_mode": {
    "name": "ipython",
    "version": 3
   },
   "file_extension": ".py",
   "mimetype": "text/x-python",
   "name": "python",
   "nbconvert_exporter": "python",
   "pygments_lexer": "ipython3",
   "version": "3.7.13"
  },
  "orig_nbformat": 4,
  "vscode": {
   "interpreter": {
    "hash": "d28e66d4c4afece0b63b561415bf2f2f93229680b11f0e6c52213614fdb6f740"
   }
  }
 },
 "nbformat": 4,
 "nbformat_minor": 2
}
