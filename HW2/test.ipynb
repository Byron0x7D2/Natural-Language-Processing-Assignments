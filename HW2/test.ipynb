{
  "cells": [
    {
      "cell_type": "code",
      "execution_count": 1,
      "metadata": {
        "id": "nKzgR6V_rXoH",
        "colab": {
          "base_uri": "https://localhost:8080/"
        },
        "outputId": "9d86536e-8b93-4d57-d3c9-a2fdc6b76fb7"
      },
      "outputs": [
        {
          "output_type": "stream",
          "name": "stdout",
          "text": [
            "Mounted at /content/drive\n",
            "--2022-12-07 18:34:43--  http://nlp.stanford.edu/data/glove.6B.zip\n",
            "Resolving nlp.stanford.edu (nlp.stanford.edu)... 171.64.67.140\n",
            "Connecting to nlp.stanford.edu (nlp.stanford.edu)|171.64.67.140|:80... connected.\n",
            "HTTP request sent, awaiting response... 302 Found\n",
            "Location: https://nlp.stanford.edu/data/glove.6B.zip [following]\n",
            "--2022-12-07 18:34:44--  https://nlp.stanford.edu/data/glove.6B.zip\n",
            "Connecting to nlp.stanford.edu (nlp.stanford.edu)|171.64.67.140|:443... connected.\n",
            "HTTP request sent, awaiting response... 301 Moved Permanently\n",
            "Location: https://downloads.cs.stanford.edu/nlp/data/glove.6B.zip [following]\n",
            "--2022-12-07 18:34:44--  https://downloads.cs.stanford.edu/nlp/data/glove.6B.zip\n",
            "Resolving downloads.cs.stanford.edu (downloads.cs.stanford.edu)... 171.64.64.22\n",
            "Connecting to downloads.cs.stanford.edu (downloads.cs.stanford.edu)|171.64.64.22|:443... connected.\n",
            "HTTP request sent, awaiting response... 200 OK\n",
            "Length: 862182613 (822M) [application/zip]\n",
            "Saving to: ‘glove.6B.zip’\n",
            "\n",
            "glove.6B.zip        100%[===================>] 822.24M  5.06MB/s    in 2m 51s  \n",
            "\n",
            "2022-12-07 18:37:37 (4.80 MB/s) - ‘glove.6B.zip’ saved [862182613/862182613]\n",
            "\n",
            "Archive:  glove.6B.zip\n",
            "  inflating: glove.6B.50d.txt        \n",
            "  inflating: glove.6B.100d.txt       \n",
            "  inflating: glove.6B.200d.txt       \n",
            "  inflating: glove.6B.300d.txt       \n"
          ]
        },
        {
          "output_type": "stream",
          "name": "stderr",
          "text": [
            "[nltk_data] Downloading package stopwords to /root/nltk_data...\n",
            "[nltk_data]   Unzipping corpora/stopwords.zip.\n",
            "[nltk_data] Downloading package wordnet to /root/nltk_data...\n",
            "[nltk_data] Downloading package punkt to /root/nltk_data...\n",
            "[nltk_data]   Unzipping tokenizers/punkt.zip.\n",
            "[nltk_data] Downloading package averaged_perceptron_tagger to\n",
            "[nltk_data]     /root/nltk_data...\n",
            "[nltk_data]   Unzipping taggers/averaged_perceptron_tagger.zip.\n",
            "[nltk_data] Downloading package omw-1.4 to /root/nltk_data...\n"
          ]
        },
        {
          "output_type": "stream",
          "name": "stdout",
          "text": [
            "Looking in indexes: https://pypi.org/simple, https://us-python.pkg.dev/colab-wheels/public/simple/\n",
            "Collecting torchmetrics\n",
            "  Downloading torchmetrics-0.11.0-py3-none-any.whl (512 kB)\n",
            "\u001b[K     |████████████████████████████████| 512 kB 21.2 MB/s \n",
            "\u001b[?25hRequirement already satisfied: numpy>=1.17.2 in /usr/local/lib/python3.8/dist-packages (from torchmetrics) (1.21.6)\n",
            "Requirement already satisfied: packaging in /usr/local/lib/python3.8/dist-packages (from torchmetrics) (21.3)\n",
            "Requirement already satisfied: typing-extensions in /usr/local/lib/python3.8/dist-packages (from torchmetrics) (4.4.0)\n",
            "Requirement already satisfied: torch>=1.8.1 in /usr/local/lib/python3.8/dist-packages (from torchmetrics) (1.13.0+cu116)\n",
            "Requirement already satisfied: pyparsing!=3.0.5,>=2.0.2 in /usr/local/lib/python3.8/dist-packages (from packaging->torchmetrics) (3.0.9)\n",
            "Installing collected packages: torchmetrics\n",
            "Successfully installed torchmetrics-0.11.0\n"
          ]
        }
      ],
      "source": [
        "import pandas as pd\n",
        "import numpy as np\n",
        "from google.colab import drive\n",
        "drive.mount('/content/drive')\n",
        "import re\n",
        "!wget http://nlp.stanford.edu/data/glove.6B.zip\n",
        "!pip install -q wordcloud\n",
        "import wordcloud\n",
        "!unzip glove*.zip\n",
        "import nltk\n",
        "from nltk.corpus import stopwords\n",
        "nltk.download('stopwords')\n",
        "nltk.download('wordnet')\n",
        "nltk.download('punkt')\n",
        "nltk.download('averaged_perceptron_tagger') \n",
        "nltk.download('omw-1.4')\n",
        "from nltk.stem.porter import PorterStemmer\n",
        "from nltk.stem import WordNetLemmatizer\n",
        "from sklearn.model_selection import train_test_split\n",
        "from matplotlib import pyplot as plt\n",
        "from IPython.core.display import Path\n",
        "from gensim.scripts.glove2word2vec import glove2word2vec\n",
        "import torch\n",
        "import torch.nn as nn\n",
        "from torchvision import datasets \n",
        "from torchvision.transforms import ToTensor\n",
        "import torch.nn.functional as F \n",
        "from torch.utils.data import Dataset\n",
        "from torch.utils.data import DataLoader\n",
        "import random\n",
        "import os\n",
        "!pip install torchmetrics\n",
        "os.environ['PYTHONHASHSEED'] = str(69)\n",
        "from sklearn.metrics import classification_report, RocCurveDisplay, roc_curve, auc\n",
        "from sklearn.metrics import f1_score as skf1\n",
        "from torchmetrics.functional import f1_score\n",
        "from torchmetrics import ConfusionMatrix"
      ]
    },
    {
      "cell_type": "code",
      "execution_count": 2,
      "metadata": {
        "id": "xPXS7fs9rXoK"
      },
      "outputs": [],
      "source": [
        "def randreset(s):\n",
        "\trandom.seed(s)\n",
        "\tnp.random.seed(s)\n",
        "\ttorch.manual_seed(s)\n",
        "\ttorch.backends.cudnn.deterministic = True\n",
        "\ttorch.backends.cudnn.benchmark = False\n",
        "\ttorch.cuda.manual_seed_all(s)"
      ]
    },
    {
      "cell_type": "code",
      "execution_count": 14,
      "metadata": {
        "id": "AgHpF2mPrXoM",
        "colab": {
          "base_uri": "https://localhost:8080/"
        },
        "outputId": "dea23e86-6729-4cac-ba86-644babb33f06"
      },
      "outputs": [
        {
          "output_type": "stream",
          "name": "stdout",
          "text": [
            "cuda\n"
          ]
        }
      ],
      "source": [
        "device = torch.device('cuda' if torch.cuda.is_available() else 'cpu')\n",
        "print(device)\n"
      ]
    },
    {
      "cell_type": "code",
      "execution_count": 6,
      "metadata": {
        "id": "VLnRA7VqrXoO"
      },
      "outputs": [],
      "source": [
        "path = '/content/drive/My Drive/AI2/HW2/imdb-reviews.csv'\n",
        "testpath = '/content/drive/My Drive/AI2/HW2/imdb-reviews.csv'\n",
        "\n",
        "df = pd.read_csv(path,  sep='\\t', lineterminator='\\n')\n",
        "dftest = pd.read_csv(testpath,  sep='\\t', lineterminator='\\n')"
      ]
    },
    {
      "cell_type": "code",
      "execution_count": 7,
      "metadata": {
        "id": "BQQrRy_5rXoP"
      },
      "outputs": [],
      "source": [
        "df['review'] = df['review'].apply(lambda r: re.sub(r'\\'', '', r))   #removing apostrophes so don't becomes dont\n",
        "df['review'] = [r.lower() for r in df['review'] ]   #making everything lowercase\n",
        "df['review'] = df['review'].apply(lambda r: re.sub(r'<br /><br />', ' ', r))  #removing this wierd sequence found in some reviews\n",
        "df['review'] = df['review'].apply(lambda r: re.sub(r'[^a-z]', ' ', r))   #only keeping letters\n",
        "\n",
        "rem = stopwords.words('english')\n",
        "df['review'] = df['review'].apply(lambda r: ' '.join([word for word in r.split() if word not in rem]))\n",
        "\n",
        "dftest['review'] = dftest['review'].apply(lambda r: re.sub(r'\\'', '', r))   #removing apostrophes so don't becomes dont\n",
        "dftest['review'] = [r.lower() for r in dftest['review'] ]   #making everything lowercase\n",
        "dftest['review'] = dftest['review'].apply(lambda r: re.sub(r'<br /><br />', ' ', r))  #removing this wierd sequence found in some reviews\n",
        "dftest['review'] = dftest['review'].apply(lambda r: re.sub(r'[^a-z]', ' ', r))   #only keeping letters\n",
        "\n",
        "dftest['review'] = dftest['review'].apply(lambda r: ' '.join([word for word in r.split() if word not in rem]))\n"
      ]
    },
    {
      "cell_type": "code",
      "execution_count": 8,
      "metadata": {
        "id": "VeoY5s6IrXoQ"
      },
      "outputs": [],
      "source": [
        "def vectorize(df, w2v):\n",
        "\tX = list()\n",
        "\tY = list()\n",
        "\tScores = list(df['rating'].apply(lambda r: 1 if r > 5 else 0))\n",
        "\tfor (i, review) in enumerate(df[\"review\"].values):\n",
        "\t\twvectors = list()\n",
        "\t\tfor word in review.split(\" \"):\n",
        "\t\t\tif word in w2v.keys():\n",
        "\t\t\t\twvectors.append(list(w2v[word]))\n",
        "\t\tif len(wvectors) > 0:\n",
        "\t\t\tX.append(np.mean(wvectors, axis=0))\n",
        "\t\t\tY.append(Scores[i])\n",
        "\treturn (X,Y)"
      ]
    },
    {
      "cell_type": "code",
      "execution_count": 9,
      "metadata": {
        "id": "AQZrSzATrXoR"
      },
      "outputs": [],
      "source": [
        "w2v = {}\n",
        "\n",
        "with open('glove.6B.300d.txt', encoding=\"utf8\") as fp:\n",
        "\tfor lines in fp:\n",
        "\t\tvarray = lines.split(\" \")\n",
        "\t\tw2v[varray[0]] = np.asarray(varray[1:], dtype='float32')\n",
        "\n",
        "(X, Y) = vectorize(df, w2v)\n",
        "(Xtest, Ytest) = vectorize(dftest, w2v)"
      ]
    },
    {
      "cell_type": "code",
      "execution_count": 10,
      "metadata": {
        "id": "A-5N-KqIrXoS",
        "colab": {
          "base_uri": "https://localhost:8080/"
        },
        "outputId": "f0d92e61-0c9d-4f0a-cb77-606d9c8cfbcd"
      },
      "outputs": [
        {
          "output_type": "stream",
          "name": "stderr",
          "text": [
            "<ipython-input-10-2dff953d8181>:4: UserWarning: Creating a tensor from a list of numpy.ndarrays is extremely slow. Please consider converting the list to a single numpy.ndarray with numpy.array() before converting to a tensor. (Triggered internally at ../torch/csrc/utils/tensor_new.cpp:230.)\n",
            "  Xt = torch.tensor(Xtrain, dtype=torch.float, device=device)\n"
          ]
        },
        {
          "output_type": "stream",
          "name": "stdout",
          "text": [
            "torch.Size([40507, 300]) torch.Size([40507])\n",
            "torch.Size([4501, 300]) torch.Size([4501])\n",
            "torch.Size([4501, 300]) torch.Size([4501])\n"
          ]
        }
      ],
      "source": [
        "randreset(666)\n",
        "Xtrain, Xval , Ytrain, Yval = train_test_split(X, Y, test_size=0.1, random_state=69)\n",
        "\n",
        "Xt = torch.tensor(Xtrain, dtype=torch.float, device=device)\n",
        "Yt = torch.tensor(Ytrain, device=device)\n",
        "print(Xt.shape, Yt.shape)\n",
        "\n",
        "Xv = torch.tensor(Xval, dtype=torch.float, device=device)\n",
        "Yv = torch.tensor(Yval, device=device)\n",
        "print(Xv.shape, Yv.shape)\n",
        "\n",
        "XT = torch.tensor(Xtest, dtype=torch.float, device=device)\n",
        "YT = torch.tensor(Ytest, device=device)\n",
        "print(Xv.shape, Yv.shape)\n",
        "\n",
        "TrainDataset = torch.utils.data.TensorDataset(Xt, Yt)\n",
        "TrainDataloader = torch.utils.data.DataLoader(TrainDataset, batch_size=6001,shuffle=True)"
      ]
    },
    {
      "cell_type": "code",
      "execution_count": 11,
      "metadata": {
        "id": "f9dXUFEyrXoT"
      },
      "outputs": [],
      "source": [
        "class NeuralNetwork(nn.Module):\n",
        "  def __init__(self, Din, H1, H2, Dout, drop, activation) -> None:\n",
        "      super(NeuralNetwork, self).__init__()\n",
        "      self.linear_relu_stack = nn.Sequential(\n",
        "          nn.Linear(Din, H1, device=device),\n",
        "\t\t      nn.Dropout(p=drop),\n",
        "          activation(),\n",
        "          nn.Linear(H1, H2, device=device),  #since we can do this without NNs I decided to only use one hidden layer\n",
        "\t\t      nn.Dropout(p=drop),\n",
        "          activation(),\n",
        "          nn.Linear(H2,Dout, device=device)\n",
        "        )\n",
        "\n",
        "  def forward(self, x):\n",
        "    logits = self.linear_relu_stack(x)\n",
        "    return logits\n",
        "\n",
        "\n",
        "def train(model, epochs, dataloader, optimiser, learningrate, Xval, Yval, prinntTF):\n",
        "\tlastf1 = None\n",
        "\tlastmodel = None\n",
        "\tlossfunction = nn.CrossEntropyLoss()\n",
        "\toptim = getattr(torch.optim, optimiser)(model.parameters(), lr=learningrate) #make lr a scheduler\n",
        "\tfor ep in range(epochs):\n",
        "\t\tmodel.train()\n",
        "\t\tfor batch, (X,Y) in enumerate(dataloader):\n",
        "\t\t\tX = X.to(device)\n",
        "\t\t\tY = Y.to(device)\n",
        "\t\t\tYpred = model(X)\n",
        "\t\t\tl = lossfunction(Ypred, Y)\n",
        "\t\t\tl.backward()\n",
        "\t\t\toptim.step()\n",
        "\t\t\toptim.zero_grad()\n",
        "\t\twith torch.no_grad():\n",
        "\t\t\tmodel.eval()\n",
        "\t\t\t_, Vpred = torch.max(model(Xval), 1)\n",
        "\t\t\tf1 = f1_score(Yval.cpu(), Vpred.cpu(), average=\"weighted\", num_classes=2, task=\"multiclass\")\n",
        "\t\t\tif prinntTF:\n",
        "\t\t\t\tprint(f\"for epoch = {ep} we got loss = {l.item()} and f1 score with val set = {f1}\")\n",
        "\t\t\tif lastf1 is None:\n",
        "\t\t\t\tlastf1 = f1 \n",
        "\t\t\t\tlastmodel = model\n",
        "\t\t\telse:\n",
        "\t\t\t\tif lastf1 > f1:\n",
        "\t\t\t\t\treturn lastmodel\n",
        "\t\t\t\telse:\n",
        "\t\t\t\t\tlastf1 = f1\n",
        "\t\t\t\n",
        "\treturn model\n",
        "\n",
        "\n",
        "\n",
        "def test(model, Xtest, Ytest):\n",
        "\twith torch.no_grad():\n",
        "\t\tmodel.eval()\n",
        "\t\t_, Ypred = torch.max(model(Xtest), 1)\n",
        "\t\tYpred = Ypred.cpu()\n",
        "\t\tYtest = Ytest.cpu()\n",
        "\t\tprint(classification_report(Ytest, Ypred))\n"
      ]
    },
    {
      "cell_type": "code",
      "execution_count": 12,
      "metadata": {
        "id": "VZaEcAMIrXoU",
        "colab": {
          "base_uri": "https://localhost:8080/"
        },
        "outputId": "658464a7-5f42-4076-d768-49ec59f92bb2"
      },
      "outputs": [
        {
          "output_type": "stream",
          "name": "stdout",
          "text": [
            "              precision    recall  f1-score   support\n",
            "\n",
            "           0       0.84      0.81      0.83     22500\n",
            "           1       0.82      0.85      0.84     22508\n",
            "\n",
            "    accuracy                           0.83     45008\n",
            "   macro avg       0.83      0.83      0.83     45008\n",
            "weighted avg       0.83      0.83      0.83     45008\n",
            "\n"
          ]
        }
      ],
      "source": [
        "randreset(666)\n",
        "model = NeuralNetwork(Xt.shape[1], 128, 128, 2, 0.2, nn.CELU).to(device)\n",
        "model = train(model, 100, TrainDataloader, \"Adam\", 0.02, Xv, Yv, False)\n",
        "test(model, XT, YT)"
      ]
    },
    {
      "cell_type": "code",
      "execution_count": 13,
      "metadata": {
        "id": "TR5Atx78rXoV",
        "colab": {
          "base_uri": "https://localhost:8080/",
          "height": 279
        },
        "outputId": "4040692d-a06e-4ff7-9436-ba96225f183b"
      },
      "outputs": [
        {
          "output_type": "display_data",
          "data": {
            "text/plain": [
              "<Figure size 432x288 with 1 Axes>"
            ],
            "image/png": "[encoded data removed]"
          },
          "metadata": {
            "needs_background": "light"
          }
        }
      ],
      "source": [
        "def plotROC(model, Xtest, Ytest):\n",
        "\twith torch.no_grad():\n",
        "\t\tmodel.eval()\n",
        "\t\t_, Ypred = torch.max(model(Xtest), 1)\n",
        "\t\tYpred = Ypred.cpu()\n",
        "\t\tYtest = Ytest.cpu()\n",
        "\t\tRocCurveDisplay.from_predictions(Ytest, Ypred)\n",
        "\t\tplt.show()\n",
        "plotROC(model, XT, YT)"
      ]
    }
  ],
  "metadata": {
    "kernelspec": {
      "display_name": "Python 3.7.13 ('jupyter')",
      "language": "python",
      "name": "python3"
    },
    "language_info": {
      "codemirror_mode": {
        "name": "ipython",
        "version": 3
      },
      "file_extension": ".py",
      "mimetype": "text/x-python",
      "name": "python",
      "nbconvert_exporter": "python",
      "pygments_lexer": "ipython3",
      "version": "3.7.13"
    },
    "orig_nbformat": 4,
    "vscode": {
      "interpreter": {
        "hash": "d28e66d4c4afece0b63b561415bf2f2f93229680b11f0e6c52213614fdb6f740"
      }
    },
    "colab": {
      "provenance": []
    },
    "accelerator": "GPU",
    "gpuClass": "standard"
  },
  "nbformat": 4,
  "nbformat_minor": 0
}